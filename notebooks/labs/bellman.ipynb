{
 "cells": [
  {
   "cell_type": "markdown",
   "id": "8e7478c1",
   "metadata": {},
   "source": [
    "# Problema do Controle de Estoque\n",
    "\n",
    "## Equação de Bellman\n",
    "\n",
    "$$ v^*_{t} = \\max_{x_t \\in X_t(s_t)} E \n",
    "\\left[ \n",
    "    r_t(s_t, x_t, W_t) + v^*_{t+1}(S_{t+1})\n",
    "\\right] $$\n",
    "\n",
    "$$t \\in [0, T-1], \\forall s_t \\in \\mathbf{S}$$\n",
    "\n",
    "### Condições de contorno\n",
    "\n",
    "$v^*_{T} = r_T (s_T), \\forall s_T \\in \\mathbf{S} $\n",
    "\n",
    "**Política Ótima:** $\\pi^*= \\{ \\mu^*_0, ..., \\mu^*_{T-1} \\}$\n",
    "\n",
    "$ \\mu^*_t(s_t) = x^*_t $"
   ]
  },
  {
   "cell_type": "markdown",
   "id": "1e7d342b",
   "metadata": {},
   "source": [
    "## Importando Pacotes"
   ]
  },
  {
   "cell_type": "code",
   "execution_count": 1,
   "id": "76f998c6",
   "metadata": {},
   "outputs": [],
   "source": [
    "import numpy as np\n",
    "from numpy.random import default_rng\n",
    "import matplotlib.pyplot as plt"
   ]
  },
  {
   "cell_type": "markdown",
   "id": "eaf24af1",
   "metadata": {},
   "source": [
    "## Definindo parâmetros"
   ]
  },
  {
   "cell_type": "code",
   "execution_count": 2,
   "id": "149a38ce",
   "metadata": {},
   "outputs": [],
   "source": [
    "## Obtenção de uma política ótima para o problema de controle de estoques\n",
    "\n",
    "T = 10                                 ## Número de estágios/épocas de decisão\n",
    "n = 3                                  ## Capacidade do armazém de estoques\n",
    "S = list(range(0,n+1))                 ## Espaço de estados\n",
    "r = 4                                  ## Preço de venda do produto\n",
    "c = 2                                  ## Custo de aquisição do produto\n",
    "h = 0.5                                ## Custo de manter estoques\n",
    "\n",
    "vetor_demandas = np.array([0,1,2])                      ## Valores possíveis da demanda\n",
    "probs_demandas = np.array([1/4, 1/2, 1/4])              ## Dist. de probabilidades da demanda"
   ]
  },
  {
   "cell_type": "code",
   "execution_count": 3,
   "id": "a6d7438e",
   "metadata": {},
   "outputs": [],
   "source": [
    "## Função de transição de estado\n",
    "def transicao(s,x,d):\n",
    "    return np.maximum(s+x-d, 0)\n",
    "\n",
    "## Função recompensa\n",
    "def recompensa(s,x,d):\n",
    "    return r*np.minimum(s+x,d)-c*x-h*np.maximum(s+x-d, 0)\n"
   ]
  },
  {
   "cell_type": "code",
   "execution_count": 4,
   "id": "3d8a8f17",
   "metadata": {},
   "outputs": [],
   "source": [
    "## Lista com funções de valor para cada estágio\n",
    "funcoes_valor_ótimas = np.zeros((T+1, len(S)))    ## Matriz cuja linha é a função de valor no tempo t\n",
    "## Lista com políticas ótimas para cada estágio\n",
    "pol_ótimas = np.zeros((T, len(S)), dtype=\"int\")\n",
    "\n",
    "## Cálculo no estágio final (não há decisão)\n",
    "v_residual = np.array([-h*s for s in S])\n",
    "\n",
    "## Guarda o valor residual em funcoes_valor_ótimas\n",
    "funcoes_valor_ótimas[T] = v_residual"
   ]
  },
  {
   "cell_type": "code",
   "execution_count": 5,
   "id": "5ad5140b",
   "metadata": {},
   "outputs": [],
   "source": [
    "## Loop do estágio T-1 até o estágio 0\n",
    "for t in reversed(range(0,T)):\n",
    "\n",
    "    v_otima_t = np.zeros(len(S))\n",
    "    pol_otima = np.zeros(len(S))\n",
    "\n",
    "    ## Loop de estados\n",
    "    for s in S:\n",
    "\n",
    "        ## Geração conjunto de decisões viáveis\n",
    "        Xs = list(range(0, n-s+1))\n",
    "        \n",
    "        ## Valor da melhor decisão\n",
    "        valor_melhor_decisao = -np.inf\n",
    "        \n",
    "        ## Loop do conjunto de decisões viáveis\n",
    "        for x in Xs:\n",
    "\n",
    "            valor_esperado_decisao = 0\n",
    "\n",
    "            for j in range(len(vetor_demandas)):\n",
    "\n",
    "                demanda = vetor_demandas[j]\n",
    "                \n",
    "                rt = recompensa(s,x,demanda)         ## Recompensa no tempo t\n",
    "                s_proximo = transicao(s,x,demanda)   ## Estado s_t+1\n",
    "                valor_s_proximo = funcoes_valor_ótimas[t+1,s_proximo]   ## Valor estado s_t+1\n",
    "\n",
    "                valor_esperado_decisao+=(rt+valor_s_proximo)*probs_demandas[j]\n",
    "\n",
    "            if valor_esperado_decisao > valor_melhor_decisao:\n",
    "\n",
    "                valor_melhor_decisao = valor_esperado_decisao\n",
    "                melhor_decisao = x\n",
    "        \n",
    "        v_otima_t[s] = valor_melhor_decisao\n",
    "        pol_otima[s] = melhor_decisao\n",
    "\n",
    "    funcoes_valor_ótimas[t] = v_otima_t\n",
    "    pol_ótimas[t] = pol_otima\n",
    "\n"
   ]
  },
  {
   "cell_type": "code",
   "execution_count": 6,
   "id": "610e486f",
   "metadata": {},
   "outputs": [
    {
     "name": "stdout",
     "output_type": "stream",
     "text": [
      "Política ótima no tempo t =  0  =  [2 1 0 0]\n",
      "Política ótima no tempo t =  1  =  [2 1 0 0]\n",
      "Política ótima no tempo t =  2  =  [2 1 0 0]\n",
      "Política ótima no tempo t =  3  =  [2 1 0 0]\n",
      "Política ótima no tempo t =  4  =  [2 1 0 0]\n",
      "Política ótima no tempo t =  5  =  [2 1 0 0]\n",
      "Política ótima no tempo t =  6  =  [2 1 0 0]\n",
      "Política ótima no tempo t =  7  =  [2 1 0 0]\n",
      "Política ótima no tempo t =  8  =  [1 0 0 0]\n",
      "Política ótima no tempo t =  9  =  [1 0 0 0]\n",
      "F Valor ótima em t =  0  =  [14.046875   16.046875   18.046875   19.38017654]\n",
      "F Valor ótima em t =  1  =  [12.546875   14.546875   16.546875   17.88008118]\n",
      "F Valor ótima em t =  2  =  [11.046875   13.046875   15.046875   16.37969971]\n",
      "F Valor ótima em t =  3  =  [ 9.546875   11.546875   13.546875   14.87817383]\n",
      "F Valor ótima em t =  4  =  [ 8.046875   10.046875   12.046875   13.37207031]\n",
      "F Valor ótima em t =  5  =  [ 6.546875    8.546875   10.546875   11.84765625]\n",
      "F Valor ótima em t =  6  =  [ 5.046875  7.046875  9.046875 10.25    ]\n",
      "F Valor ótima em t =  7  =  [3.546875 5.546875 7.546875 8.359375]\n",
      "F Valor ótima em t =  8  =  [2.125  4.125  5.8125 5.6875]\n",
      "F Valor ótima em t =  9  =  [0.75 2.75 3.   2.  ]\n",
      "F Valor ótima em t =  10  =  [-0.  -0.5 -1.  -1.5]\n"
     ]
    }
   ],
   "source": [
    "for t in range(0,T):\n",
    "    print(\"Política ótima no tempo t = \", t, \" = \", pol_ótimas[t])\n",
    "\n",
    "for t in range(0,T+1):\n",
    "    print(\"F Valor ótima em t = \", t, \" = \", funcoes_valor_ótimas[t])\n"
   ]
  },
  {
   "cell_type": "code",
   "execution_count": 7,
   "id": "0b7ce234",
   "metadata": {},
   "outputs": [
    {
     "name": "stdout",
     "output_type": "stream",
     "text": [
      "Simulação da política ótima\n"
     ]
    }
   ],
   "source": [
    "# Aplicação da política (simulação)\n",
    "\n",
    "print(\"Simulação da política ótima\")\n",
    "rng = default_rng()    ## Gerador de números aleatórios\n",
    "\n",
    "s = s0 = 0    ## Estado inicial\n",
    "\n",
    "realizacao_estados = [s0]\n",
    "realizacao_demandas = []\n",
    "realizacao_decisoes = []\n"
   ]
  },
  {
   "cell_type": "code",
   "execution_count": 8,
   "id": "6a7ef53c",
   "metadata": {},
   "outputs": [
    {
     "name": "stdout",
     "output_type": "stream",
     "text": [
      "Estado no tempo  t =  0  é  1\n",
      "Demanda no tempo t =  0  é  1\n",
      "Decisão no tempo t =  0  é  2\n",
      "Estado no tempo  t =  1  é  1\n",
      "Demanda no tempo t =  1  é  1\n",
      "Decisão no tempo t =  1  é  1\n",
      "Estado no tempo  t =  2  é  2\n",
      "Demanda no tempo t =  2  é  2\n",
      "Decisão no tempo t =  2  é  1\n",
      "Estado no tempo  t =  3  é  2\n",
      "Demanda no tempo t =  3  é  2\n",
      "Decisão no tempo t =  3  é  2\n",
      "Estado no tempo  t =  4  é  0\n",
      "Demanda no tempo t =  4  é  0\n",
      "Decisão no tempo t =  4  é  2\n",
      "Estado no tempo  t =  5  é  1\n",
      "Demanda no tempo t =  5  é  1\n",
      "Decisão no tempo t =  5  é  0\n",
      "Estado no tempo  t =  6  é  0\n",
      "Demanda no tempo t =  6  é  0\n",
      "Decisão no tempo t =  6  é  1\n",
      "Estado no tempo  t =  7  é  1\n",
      "Demanda no tempo t =  7  é  1\n",
      "Decisão no tempo t =  7  é  0\n",
      "Estado no tempo  t =  8  é  1\n",
      "Demanda no tempo t =  8  é  1\n",
      "Decisão no tempo t =  8  é  0\n",
      "Estado no tempo  t =  9  é  0\n",
      "Demanda no tempo t =  9  é  0\n",
      "Decisão no tempo t =  9  é  1\n"
     ]
    }
   ],
   "source": [
    "\n",
    "for t in range(T):\n",
    "\n",
    "    ## Amostra a demanda no tempo t\n",
    "    d = rng.choice(vetor_demandas, p = probs_demandas)\n",
    "\n",
    "    print(\"Estado no tempo  t = \", t, \" é \", d)\n",
    "\n",
    "    realizacao_demandas.append(d)\n",
    "\n",
    "    print(\"Demanda no tempo t = \", t, \" é \", d)\n",
    "    \n",
    "    ## Toma decisão no tempo t em função do estado atual s\n",
    "    x = pol_ótimas[t,s]\n",
    "\n",
    "    realizacao_decisoes.append(x)\n",
    "\n",
    "    print(\"Decisão no tempo t = \", t, \" é \", x)\n",
    "\n",
    "    ## Atualiza novo estado (função de transição de estados)\n",
    "    s = transicao(s,x,d)\n",
    "\n",
    "    ## Guarda novo estado\n",
    "    realizacao_estados.append(s)\n",
    "\n"
   ]
  },
  {
   "cell_type": "code",
   "execution_count": 9,
   "id": "6711a6d6",
   "metadata": {},
   "outputs": [
    {
     "data": {
      "text/plain": [
       "<matplotlib.legend.Legend at 0x7fe7f17ae490>"
      ]
     },
     "execution_count": 9,
     "metadata": {},
     "output_type": "execute_result"
    },
    {
     "data": {
      "image/png": "[encoded data removed]",
      "text/plain": [
       "<Figure size 640x480 with 1 Axes>"
      ]
     },
     "metadata": {},
     "output_type": "display_data"
    }
   ],
   "source": [
    "\n",
    "plt.plot(realizacao_estados,marker='.', label = \"Nível estoque\")\n",
    "plt.plot(realizacao_demandas,marker='.', label = \"Demanda\")\n",
    "plt.plot(realizacao_decisoes, ls=\"\",marker='.', label = \"Decisao\")\n",
    "plt.legend()"
   ]
  }
 ],
 "metadata": {
  "kernelspec": {
   "display_name": "ML",
   "language": "python",
   "name": "python3"
  },
  "language_info": {
   "codemirror_mode": {
    "name": "ipython",
    "version": 3
   },
   "file_extension": ".py",
   "mimetype": "text/x-python",
   "name": "python",
   "nbconvert_exporter": "python",
   "pygments_lexer": "ipython3",
   "version": "3.10.9"
  }
 },
 "nbformat": 4,
 "nbformat_minor": 5
}

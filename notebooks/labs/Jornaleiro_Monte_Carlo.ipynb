{
 "cells": [
  {
   "cell_type": "markdown",
   "id": "305a38e6",
   "metadata": {},
   "source": [
    "# Simulação de Monte Carlo"
   ]
  },
  {
   "cell_type": "code",
   "execution_count": null,
   "id": "0621f4a6",
   "metadata": {},
   "outputs": [],
   "source": [
    "import numpy as np\n",
    "import numpy.random as rd\n",
    "import matplotlib.pyplot as plt\n"
   ]
  },
  {
   "cell_type": "code",
   "execution_count": null,
   "id": "5fded567",
   "metadata": {},
   "outputs": [],
   "source": [
    "gerador = rd.default_rng() #gerador de numeros aleatorios\n",
    "\n",
    "# Preço de Venda\n",
    "r = 20\n",
    "# Custo de Produção\n",
    "c = 12\n",
    "\n",
    "# Número de Amostras\n",
    "n = 100\n",
    "# Amostra aleatória iid. seguindo uma distribuição exponencial de média=25\n",
    "# w = demanda de pornais\n",
    "w_amostral = rd.exponential(25, n)\n",
    "\n",
    "#print(\"Amostra de Demandas = \", w_amostral)\n",
    "\n",
    "melhor_g = 0\n",
    "lista_g_medios = []\n",
    "\n",
    "# x = número \n",
    "for x in range (0,50):\n",
    "    # Lucro de cada uma das amostras\n",
    "    g_amostral = r*np.minimum(x,w_amostral) - c*x\n",
    "    # Lucro médio amostral\n",
    "    g_medio = g_amostral.mean()\n",
    "    lista_g_medios.append(g_medio)\n",
    "\n",
    "    if g_medio > melhor_g:\n",
    "        melhor_x = x\n",
    "        melhor_g = g_medio\n",
    "\n",
    "    # print(\"Média Amostral para \" + str(x) + \" iteracao de cada amostra = \", g_medio)\n",
    "\n",
    "print(\"Melhor x = \" + str(melhor_x) + \" e melhor g = \" + str(melhor_g))\n",
    "plt.plot(lista_g_medios)\n",
    "plt.xlabel(\"Jornais\")\n",
    "plt.ylabel(\"Lucro Médio\")"
   ]
  }
 ],
 "metadata": {
  "language_info": {
   "name": "python"
  }
 },
 "nbformat": 4,
 "nbformat_minor": 5
}
